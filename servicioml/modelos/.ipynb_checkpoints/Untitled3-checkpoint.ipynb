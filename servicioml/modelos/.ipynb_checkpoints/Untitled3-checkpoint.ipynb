{
 "cells": [
  {
   "cell_type": "code",
   "execution_count": 1,
   "id": "7c64e7df",
   "metadata": {},
   "outputs": [
    {
     "name": "stdout",
     "output_type": "stream",
     "text": [
      "INFO:tensorflow:Enabling eager execution\n",
      "INFO:tensorflow:Enabling v2 tensorshape\n",
      "INFO:tensorflow:Enabling resource variables\n",
      "INFO:tensorflow:Enabling tensor equality\n",
      "INFO:tensorflow:Enabling control flow v2\n"
     ]
    }
   ],
   "source": [
    "import string\n",
    "import spacy\n",
    "from spacy.lang.en.stop_words import STOP_WORDS\n",
    "from spacy.lang.en import English\n",
    "import en_core_web_sm\n",
    "import pandas as pd\n",
    "\n",
    "import re\n",
    "from sklearn.model_selection import train_test_split\n",
    "from sklearn.feature_extraction.text import TfidfVectorizer\n",
    "from sklearn.feature_extraction.text import CountVectorizer\n",
    "from sklearn.linear_model import LogisticRegression\n",
    "from sklearn import metrics\n",
    "\n",
    "import joblib\n",
    "\n"
   ]
  },
  {
   "cell_type": "code",
   "execution_count": 2,
   "id": "d9273987",
   "metadata": {},
   "outputs": [
    {
     "data": {
      "text/html": [
       "<div>\n",
       "<style scoped>\n",
       "    .dataframe tbody tr th:only-of-type {\n",
       "        vertical-align: middle;\n",
       "    }\n",
       "\n",
       "    .dataframe tbody tr th {\n",
       "        vertical-align: top;\n",
       "    }\n",
       "\n",
       "    .dataframe thead th {\n",
       "        text-align: right;\n",
       "    }\n",
       "</style>\n",
       "<table border=\"1\" class=\"dataframe\">\n",
       "  <thead>\n",
       "    <tr style=\"text-align: right;\">\n",
       "      <th></th>\n",
       "      <th>Review</th>\n",
       "      <th>Rating</th>\n",
       "    </tr>\n",
       "  </thead>\n",
       "  <tbody>\n",
       "    <tr>\n",
       "      <th>0</th>\n",
       "      <td>nice hotel expensive parking got good deal sta...</td>\n",
       "      <td>4</td>\n",
       "    </tr>\n",
       "    <tr>\n",
       "      <th>1</th>\n",
       "      <td>ok nothing special charge diamond member hilto...</td>\n",
       "      <td>2</td>\n",
       "    </tr>\n",
       "    <tr>\n",
       "      <th>2</th>\n",
       "      <td>nice rooms not 4* experience hotel monaco seat...</td>\n",
       "      <td>3</td>\n",
       "    </tr>\n",
       "    <tr>\n",
       "      <th>3</th>\n",
       "      <td>unique, great stay, wonderful time hotel monac...</td>\n",
       "      <td>5</td>\n",
       "    </tr>\n",
       "    <tr>\n",
       "      <th>4</th>\n",
       "      <td>great stay great stay, went seahawk game aweso...</td>\n",
       "      <td>5</td>\n",
       "    </tr>\n",
       "  </tbody>\n",
       "</table>\n",
       "</div>"
      ],
      "text/plain": [
       "                                              Review  Rating\n",
       "0  nice hotel expensive parking got good deal sta...       4\n",
       "1  ok nothing special charge diamond member hilto...       2\n",
       "2  nice rooms not 4* experience hotel monaco seat...       3\n",
       "3  unique, great stay, wonderful time hotel monac...       5\n",
       "4  great stay great stay, went seahawk game aweso...       5"
      ]
     },
     "execution_count": 2,
     "metadata": {},
     "output_type": "execute_result"
    }
   ],
   "source": [
    "data =  pd.read_csv(\"C:/Users/hjjc1/Desktop/tripadvisor_hotel_reviews.csv\")\n",
    "\n",
    "\n",
    "data.head()"
   ]
  },
  {
   "cell_type": "code",
   "execution_count": 3,
   "id": "8791107c",
   "metadata": {},
   "outputs": [],
   "source": [
    "#vamos a tratar los datos del csv que nos llegan cambiando la puntuancion de estrellas por sentimientos mayor de 3 positivo=1 >3 negativo = 0\n",
    "data[\"Rating\"] = data[\"Rating\"].apply(lambda x: 1 if x>3 else(3 if x==3 else 0))\n",
    "\n",
    "#Vamos a eliminar los datos nuestro ==3\n",
    "indexNames = data[data[\"Rating\"]==3].index\n",
    "data.drop(indexNames, inplace=True)"
   ]
  },
  {
   "cell_type": "code",
   "execution_count": 4,
   "id": "29c8cafa",
   "metadata": {},
   "outputs": [
    {
     "data": {
      "text/html": [
       "<div>\n",
       "<style scoped>\n",
       "    .dataframe tbody tr th:only-of-type {\n",
       "        vertical-align: middle;\n",
       "    }\n",
       "\n",
       "    .dataframe tbody tr th {\n",
       "        vertical-align: top;\n",
       "    }\n",
       "\n",
       "    .dataframe thead th {\n",
       "        text-align: right;\n",
       "    }\n",
       "</style>\n",
       "<table border=\"1\" class=\"dataframe\">\n",
       "  <thead>\n",
       "    <tr style=\"text-align: right;\">\n",
       "      <th></th>\n",
       "      <th>Review</th>\n",
       "      <th>Rating</th>\n",
       "    </tr>\n",
       "  </thead>\n",
       "  <tbody>\n",
       "    <tr>\n",
       "      <th>0</th>\n",
       "      <td>nice hotel expensive parking got good deal sta...</td>\n",
       "      <td>1</td>\n",
       "    </tr>\n",
       "    <tr>\n",
       "      <th>1</th>\n",
       "      <td>ok nothing special charge diamond member hilto...</td>\n",
       "      <td>0</td>\n",
       "    </tr>\n",
       "    <tr>\n",
       "      <th>3</th>\n",
       "      <td>unique, great stay, wonderful time hotel monac...</td>\n",
       "      <td>1</td>\n",
       "    </tr>\n",
       "    <tr>\n",
       "      <th>4</th>\n",
       "      <td>great stay great stay, went seahawk game aweso...</td>\n",
       "      <td>1</td>\n",
       "    </tr>\n",
       "    <tr>\n",
       "      <th>5</th>\n",
       "      <td>love monaco staff husband stayed hotel crazy w...</td>\n",
       "      <td>1</td>\n",
       "    </tr>\n",
       "    <tr>\n",
       "      <th>...</th>\n",
       "      <td>...</td>\n",
       "      <td>...</td>\n",
       "    </tr>\n",
       "    <tr>\n",
       "      <th>20486</th>\n",
       "      <td>best kept secret 3rd time staying charm, not 5...</td>\n",
       "      <td>1</td>\n",
       "    </tr>\n",
       "    <tr>\n",
       "      <th>20487</th>\n",
       "      <td>great location price view hotel great quick pl...</td>\n",
       "      <td>1</td>\n",
       "    </tr>\n",
       "    <tr>\n",
       "      <th>20488</th>\n",
       "      <td>ok just looks nice modern outside, desk staff ...</td>\n",
       "      <td>0</td>\n",
       "    </tr>\n",
       "    <tr>\n",
       "      <th>20489</th>\n",
       "      <td>hotel theft ruined vacation hotel opened sept ...</td>\n",
       "      <td>0</td>\n",
       "    </tr>\n",
       "    <tr>\n",
       "      <th>20490</th>\n",
       "      <td>people talking, ca n't believe excellent ratin...</td>\n",
       "      <td>0</td>\n",
       "    </tr>\n",
       "  </tbody>\n",
       "</table>\n",
       "<p>18307 rows × 2 columns</p>\n",
       "</div>"
      ],
      "text/plain": [
       "                                                  Review  Rating\n",
       "0      nice hotel expensive parking got good deal sta...       1\n",
       "1      ok nothing special charge diamond member hilto...       0\n",
       "3      unique, great stay, wonderful time hotel monac...       1\n",
       "4      great stay great stay, went seahawk game aweso...       1\n",
       "5      love monaco staff husband stayed hotel crazy w...       1\n",
       "...                                                  ...     ...\n",
       "20486  best kept secret 3rd time staying charm, not 5...       1\n",
       "20487  great location price view hotel great quick pl...       1\n",
       "20488  ok just looks nice modern outside, desk staff ...       0\n",
       "20489  hotel theft ruined vacation hotel opened sept ...       0\n",
       "20490  people talking, ca n't believe excellent ratin...       0\n",
       "\n",
       "[18307 rows x 2 columns]"
      ]
     },
     "execution_count": 4,
     "metadata": {},
     "output_type": "execute_result"
    }
   ],
   "source": [
    "data"
   ]
  },
  {
   "cell_type": "code",
   "execution_count": 5,
   "id": "1b977895",
   "metadata": {},
   "outputs": [],
   "source": [
    "#Create our list puntuations marks\n",
    "punctuations = string.punctuation\n",
    "#create our list of stopwords \n",
    "stop_words = spacy.lang.en.stop_words.STOP_WORDS\n",
    "#Load a englis tokenizer \n",
    "parser= nlp = en_core_web_sm.load()\n"
   ]
  },
  {
   "cell_type": "code",
   "execution_count": 6,
   "id": "f5c21737",
   "metadata": {},
   "outputs": [],
   "source": [
    "def deleteRegularExpresion(text):\n",
    "    if type(text) == str:\n",
    "        text = re.sub('<[^>]*>', '', text)\n",
    "        text = re.sub('[\\W]+', '', text.lower())\n",
    "        \n",
    "    return text\n"
   ]
  },
  {
   "cell_type": "code",
   "execution_count": 7,
   "id": "e2ee5d34",
   "metadata": {},
   "outputs": [],
   "source": [
    "#creamos nuestra nueva funcion para tokenizar el texto\n",
    "def spacy_tokenizer(doc):\n",
    "    # Creating our token object, which is used to create documents with linguistic annotations.\n",
    "    mytokens = parser(doc)\n",
    "    \n",
    "    lema_list=[]\n",
    "    for token in mytokens:\n",
    "        if token.is_stop is False:\n",
    "            token_preprocessed = deleteRegularExpresion(token.lemma_)\n",
    "            if token_preprocessed != '':\n",
    "                lema_list.append(token_preprocessed)\n",
    "    return lema_list\n",
    "\n",
    "\n",
    "def clean_text(tex):\n",
    "    #borramos espacios y convertimos el textoa minusculas\n",
    "    return tex.strip().lower()"
   ]
  },
  {
   "cell_type": "code",
   "execution_count": 9,
   "id": "49020095",
   "metadata": {},
   "outputs": [],
   "source": [
    "data['NewReview'] = data[\"Review\"].apply(lambda x: \" \".join(spacy_tokenizer(clean_text(x))))"
   ]
  },
  {
   "cell_type": "code",
   "execution_count": 11,
   "id": "332978d6",
   "metadata": {
    "scrolled": true
   },
   "outputs": [
    {
     "data": {
      "text/html": [
       "<div>\n",
       "<style scoped>\n",
       "    .dataframe tbody tr th:only-of-type {\n",
       "        vertical-align: middle;\n",
       "    }\n",
       "\n",
       "    .dataframe tbody tr th {\n",
       "        vertical-align: top;\n",
       "    }\n",
       "\n",
       "    .dataframe thead th {\n",
       "        text-align: right;\n",
       "    }\n",
       "</style>\n",
       "<table border=\"1\" class=\"dataframe\">\n",
       "  <thead>\n",
       "    <tr style=\"text-align: right;\">\n",
       "      <th></th>\n",
       "      <th>Review</th>\n",
       "      <th>Rating</th>\n",
       "      <th>NewReview</th>\n",
       "    </tr>\n",
       "  </thead>\n",
       "  <tbody>\n",
       "    <tr>\n",
       "      <th>0</th>\n",
       "      <td>nice hotel expensive parking got good deal sta...</td>\n",
       "      <td>1</td>\n",
       "      <td>nice hotel expensive parking get good deal sta...</td>\n",
       "    </tr>\n",
       "    <tr>\n",
       "      <th>1</th>\n",
       "      <td>ok nothing special charge diamond member hilto...</td>\n",
       "      <td>0</td>\n",
       "      <td>ok special charge diamond member hilton decide...</td>\n",
       "    </tr>\n",
       "    <tr>\n",
       "      <th>3</th>\n",
       "      <td>unique, great stay, wonderful time hotel monac...</td>\n",
       "      <td>1</td>\n",
       "      <td>unique great stay wonderful time hotel monaco ...</td>\n",
       "    </tr>\n",
       "    <tr>\n",
       "      <th>4</th>\n",
       "      <td>great stay great stay, went seahawk game aweso...</td>\n",
       "      <td>1</td>\n",
       "      <td>great stay great stay go seahawk game awesome ...</td>\n",
       "    </tr>\n",
       "    <tr>\n",
       "      <th>5</th>\n",
       "      <td>love monaco staff husband stayed hotel crazy w...</td>\n",
       "      <td>1</td>\n",
       "      <td>love monaco staff husband stay hotel crazy wee...</td>\n",
       "    </tr>\n",
       "    <tr>\n",
       "      <th>...</th>\n",
       "      <td>...</td>\n",
       "      <td>...</td>\n",
       "      <td>...</td>\n",
       "    </tr>\n",
       "    <tr>\n",
       "      <th>20486</th>\n",
       "      <td>best kept secret 3rd time staying charm, not 5...</td>\n",
       "      <td>1</td>\n",
       "      <td>well keep secret 3rd time stay charm 5 star be...</td>\n",
       "    </tr>\n",
       "    <tr>\n",
       "      <th>20487</th>\n",
       "      <td>great location price view hotel great quick pl...</td>\n",
       "      <td>1</td>\n",
       "      <td>great location price view hotel great quick pl...</td>\n",
       "    </tr>\n",
       "    <tr>\n",
       "      <th>20488</th>\n",
       "      <td>ok just looks nice modern outside, desk staff ...</td>\n",
       "      <td>0</td>\n",
       "      <td>ok look nice modern outside desk staff particu...</td>\n",
       "    </tr>\n",
       "    <tr>\n",
       "      <th>20489</th>\n",
       "      <td>hotel theft ruined vacation hotel opened sept ...</td>\n",
       "      <td>0</td>\n",
       "      <td>hotel theft ruin vacation hotel open sept 17 2...</td>\n",
       "    </tr>\n",
       "    <tr>\n",
       "      <th>20490</th>\n",
       "      <td>people talking, ca n't believe excellent ratin...</td>\n",
       "      <td>0</td>\n",
       "      <td>people talk believe excellent rating hotel yes...</td>\n",
       "    </tr>\n",
       "  </tbody>\n",
       "</table>\n",
       "<p>18307 rows × 3 columns</p>\n",
       "</div>"
      ],
      "text/plain": [
       "                                                  Review  Rating  \\\n",
       "0      nice hotel expensive parking got good deal sta...       1   \n",
       "1      ok nothing special charge diamond member hilto...       0   \n",
       "3      unique, great stay, wonderful time hotel monac...       1   \n",
       "4      great stay great stay, went seahawk game aweso...       1   \n",
       "5      love monaco staff husband stayed hotel crazy w...       1   \n",
       "...                                                  ...     ...   \n",
       "20486  best kept secret 3rd time staying charm, not 5...       1   \n",
       "20487  great location price view hotel great quick pl...       1   \n",
       "20488  ok just looks nice modern outside, desk staff ...       0   \n",
       "20489  hotel theft ruined vacation hotel opened sept ...       0   \n",
       "20490  people talking, ca n't believe excellent ratin...       0   \n",
       "\n",
       "                                               NewReview  \n",
       "0      nice hotel expensive parking get good deal sta...  \n",
       "1      ok special charge diamond member hilton decide...  \n",
       "3      unique great stay wonderful time hotel monaco ...  \n",
       "4      great stay great stay go seahawk game awesome ...  \n",
       "5      love monaco staff husband stay hotel crazy wee...  \n",
       "...                                                  ...  \n",
       "20486  well keep secret 3rd time stay charm 5 star be...  \n",
       "20487  great location price view hotel great quick pl...  \n",
       "20488  ok look nice modern outside desk staff particu...  \n",
       "20489  hotel theft ruin vacation hotel open sept 17 2...  \n",
       "20490  people talk believe excellent rating hotel yes...  \n",
       "\n",
       "[18307 rows x 3 columns]"
      ]
     },
     "execution_count": 11,
     "metadata": {},
     "output_type": "execute_result"
    }
   ],
   "source": [
    "data"
   ]
  },
  {
   "cell_type": "code",
   "execution_count": 12,
   "id": "3468d20b",
   "metadata": {},
   "outputs": [
    {
     "name": "stdout",
     "output_type": "stream",
     "text": [
      "nice hotel expensive parking got good deal stay hotel anniversary, arrived late evening took advice previous reviews did valet parking, check quick easy, little disappointed non-existent view room room clean nice size, bed comfortable woke stiff neck high pillows, not soundproof like heard music room night morning loud bangs doors opening closing hear people talking hallway, maybe just noisy neighbors, aveda bath products nice, did not goldfish stay nice touch taken advantage staying longer, location great walking distance shopping, overall nice experience having pay 40 parking night,  \n"
     ]
    }
   ],
   "source": [
    "print(data[\"Review\"][0])"
   ]
  },
  {
   "cell_type": "code",
   "execution_count": 13,
   "id": "b69eb265",
   "metadata": {},
   "outputs": [],
   "source": [
    "# Split into training and test sets\n",
    "X_train, X_test, y_train, y_test= train_test_split(data[\"NewReview\"],data[\"Rating\"], test_size=0.30, random_state=24)"
   ]
  },
  {
   "cell_type": "code",
   "execution_count": 14,
   "id": "5d6810e7",
   "metadata": {},
   "outputs": [],
   "source": [
    "# Create CountVectorizer object, specifying the arguments to preprocess text\n",
    "\n",
    "vectorizer= CountVectorizer()\n",
    "X_train_bow = vectorizer.fit_transform(X_train)\n",
    "X_test_bow = vectorizer.transform(X_test)"
   ]
  },
  {
   "cell_type": "code",
   "execution_count": 15,
   "id": "8bfd4c1a",
   "metadata": {},
   "outputs": [],
   "source": [
    "classifier = LogisticRegression(max_iter = 200)"
   ]
  },
  {
   "cell_type": "code",
   "execution_count": 16,
   "id": "da0a6e24",
   "metadata": {},
   "outputs": [
    {
     "data": {
      "text/plain": [
       "LogisticRegression(max_iter=200)"
      ]
     },
     "execution_count": 16,
     "metadata": {},
     "output_type": "execute_result"
    }
   ],
   "source": [
    "classifier.fit(X_train_bow,y_train)"
   ]
  },
  {
   "cell_type": "code",
   "execution_count": 17,
   "id": "311b9a77",
   "metadata": {},
   "outputs": [],
   "source": [
    "predicted = classifier.predict(X_test_bow)"
   ]
  },
  {
   "cell_type": "code",
   "execution_count": 18,
   "id": "120a38cf",
   "metadata": {},
   "outputs": [
    {
     "data": {
      "text/plain": [
       "array([[0.03812937, 0.001538  , 0.13033049, ..., 0.00108964, 0.01232955,\n",
       "        0.00016245]])"
      ]
     },
     "execution_count": 18,
     "metadata": {},
     "output_type": "execute_result"
    }
   ],
   "source": [
    "classifier.coef_"
   ]
  },
  {
   "cell_type": "code",
   "execution_count": 19,
   "id": "38e35aad",
   "metadata": {},
   "outputs": [
    {
     "name": "stdout",
     "output_type": "stream",
     "text": [
      "Logistic Regression Accuracy: 0.9464773347897324\n",
      "Logistic Regression Precision: 0.9563794983642312\n",
      "Logistic Regression Recall: 0.9790131725831659\n"
     ]
    }
   ],
   "source": [
    "print(\"Logistic Regression Accuracy:\",metrics.accuracy_score(y_test, predicted))\n",
    "print(\"Logistic Regression Precision:\",metrics.precision_score(y_test, predicted))\n",
    "print(\"Logistic Regression Recall:\",metrics.recall_score(y_test, predicted))"
   ]
  },
  {
   "cell_type": "code",
   "execution_count": 20,
   "id": "77800578",
   "metadata": {},
   "outputs": [],
   "source": [
    "text = \"The room was exceptionally hot. When we reported to maintenance they asked us to wait 2 hours for the air conditioning to work and told us to open a window. We woke up the next morning in 29.5 degree heat.\""
   ]
  },
  {
   "cell_type": "code",
   "execution_count": 21,
   "id": "6975994b",
   "metadata": {
    "scrolled": true
   },
   "outputs": [],
   "source": [
    "text_clean = \" \".join(spacy_tokenizer(clean_text(text)))\n",
    "\n",
    "text_clean\n",
    "\n",
    "vectBow = vectorizer.transform([text_clean])\n",
    "\n"
   ]
  },
  {
   "cell_type": "code",
   "execution_count": 22,
   "id": "29d840da",
   "metadata": {},
   "outputs": [],
   "source": [
    "predicion = classifier.predict(vectBow)"
   ]
  },
  {
   "cell_type": "code",
   "execution_count": 23,
   "id": "d1ebc864",
   "metadata": {},
   "outputs": [
    {
     "name": "stdout",
     "output_type": "stream",
     "text": [
      "[0]\n"
     ]
    }
   ],
   "source": [
    "print(predicion)"
   ]
  },
  {
   "cell_type": "code",
   "execution_count": 22,
   "id": "a873f8b3",
   "metadata": {},
   "outputs": [
    {
     "data": {
      "text/plain": [
       "['./vectorize.joblib']"
      ]
     },
     "execution_count": 22,
     "metadata": {},
     "output_type": "execute_result"
    }
   ],
   "source": [
    "#vmos a guardar nuestro modelo \n",
    "joblib.dump(vetorize, \"./vectorize.joblib\", compress=True)\n",
    "joblib.dump(classifier, \"./classifier.joblib\", compress=True)\n"
   ]
  },
  {
   "cell_type": "code",
   "execution_count": 25,
   "id": "189b0910",
   "metadata": {},
   "outputs": [],
   "source": [
    "#vamos a sacar algunas caracteristicas d nuestro clasificador\n",
    "from sklearn.metrics import classification_report"
   ]
  },
  {
   "cell_type": "code",
   "execution_count": 26,
   "id": "90a423c1",
   "metadata": {},
   "outputs": [
    {
     "name": "stdout",
     "output_type": "stream",
     "text": [
      "              precision    recall  f1-score   support\n",
      "\n",
      "           0       0.90      0.80      0.85      1014\n",
      "           1       0.96      0.98      0.97      4479\n",
      "\n",
      "    accuracy                           0.95      5493\n",
      "   macro avg       0.93      0.89      0.91      5493\n",
      "weighted avg       0.95      0.95      0.95      5493\n",
      "\n"
     ]
    }
   ],
   "source": [
    "print(classification_report(y_test, predicted))"
   ]
  },
  {
   "cell_type": "code",
   "execution_count": 27,
   "id": "4d7b2533",
   "metadata": {},
   "outputs": [
    {
     "name": "stdout",
     "output_type": "stream",
     "text": [
      "[[0.97701293 0.02298707]]\n"
     ]
    }
   ],
   "source": [
    "print(classifier.predict_proba(vectBow))"
   ]
  },
  {
   "cell_type": "code",
   "execution_count": null,
   "id": "c45c2118",
   "metadata": {},
   "outputs": [],
   "source": []
  }
 ],
 "metadata": {
  "kernelspec": {
   "display_name": "envMl",
   "language": "python",
   "name": "envml"
  },
  "language_info": {
   "codemirror_mode": {
    "name": "ipython",
    "version": 3
   },
   "file_extension": ".py",
   "mimetype": "text/x-python",
   "name": "python",
   "nbconvert_exporter": "python",
   "pygments_lexer": "ipython3",
   "version": "3.9.0"
  }
 },
 "nbformat": 4,
 "nbformat_minor": 5
}
